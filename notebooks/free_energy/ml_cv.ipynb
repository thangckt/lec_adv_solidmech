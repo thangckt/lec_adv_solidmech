{
 "cells": [
  {
   "attachments": {},
   "cell_type": "markdown",
   "metadata": {},
   "source": [
    "# mlcvs: Machine Learning Collective Variables\n",
    "\n",
    "Build data-driven collective variables for enhanced sampling simulations, using the python package `mlcvs`.\n",
    "- [Documentation](https://mlcvs.readthedocs.io/en/latest/index.html)\n",
    "- [Github](https://github.com/luigibonati/mlcvs)\n",
    "\n",
    "## Install packages\n",
    "\n",
    "```\n",
    "conda create -n py39mlcv python=3.9\n",
    "conda activate py39mlcv\n",
    "conda install -y -c conda-forge numpy pandas matplotlib scikit-learn\n",
    "## pytorch\n",
    "conda install pytorch torchvision torchaudio pytorch-cuda=11.7 -c pytorch -c nvidia\n",
    "\n",
    "pip install git+https://github.com/luigibonati/mlcvs@main\n",
    "```"
   ]
  },
  {
   "cell_type": "code",
   "execution_count": null,
   "metadata": {},
   "outputs": [],
   "source": []
  }
 ],
 "metadata": {
  "kernelspec": {
   "display_name": "base",
   "language": "python",
   "name": "python3"
  },
  "language_info": {
   "name": "python",
   "version": "3.9.7 | packaged by conda-forge | (default, Sep 29 2021, 19:15:42) [MSC v.1916 64 bit (AMD64)]"
  },
  "orig_nbformat": 4,
  "vscode": {
   "interpreter": {
    "hash": "2b6e7cfdce5ef245d32482b7f80393907c6182a3f3a40203474e09cb3d62b454"
   }
  }
 },
 "nbformat": 4,
 "nbformat_minor": 2
}
