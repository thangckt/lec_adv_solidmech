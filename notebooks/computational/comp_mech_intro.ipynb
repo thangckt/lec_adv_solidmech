{
 "cells": [
  {
   "cell_type": "markdown",
   "metadata": {},
   "source": [
    "# Introduction to Comptational Mechanics\n"
   ]
  },
  {
   "attachments": {},
   "cell_type": "markdown",
   "metadata": {},
   "source": [
    "## Analytical vs Computational Solution\n",
    "\n",
    "**Analytical Solution**\n",
    "Analytical solutions, also called closed-form solutions, are mathematical solutions in the form of math expressions.\n",
    "- Transparent\n",
    "- Efficient\n",
    "- Give exact values\n",
    "\n",
    "**Computational Solution**\n",
    "\n",
    "In many engineering problems, you cannot find or may not need an exact mathematical formula, then we use Computational/Numerical Solution.\n",
    "Computational Solution use approximation methods to estimate a closed value to Analytical Solution.\n",
    "\n",
    "Compare Analytical vs. Computational solutions, give us the concept of **Numerical Error**\n",
    "\n",
    "## Errors in Numerical Modeling\n",
    "\n",
    "There are 2 types of numerical errors: Truncation and Roundoff.\n",
    "\n",
    "### Truncation error\n",
    "\n"
   ]
  },
  {
   "cell_type": "code",
   "execution_count": null,
   "metadata": {},
   "outputs": [],
   "source": []
  }
 ],
 "metadata": {
  "kernelspec": {
   "display_name": "base",
   "language": "python",
   "name": "python3"
  },
  "language_info": {
   "name": "python",
   "version": "3.9.7 | packaged by conda-forge | (default, Sep 29 2021, 19:15:42) [MSC v.1916 64 bit (AMD64)]"
  },
  "orig_nbformat": 4,
  "vscode": {
   "interpreter": {
    "hash": "2b6e7cfdce5ef245d32482b7f80393907c6182a3f3a40203474e09cb3d62b454"
   }
  }
 },
 "nbformat": 4,
 "nbformat_minor": 2
}
