{
 "cells": [
  {
   "attachments": {},
   "cell_type": "markdown",
   "metadata": {},
   "source": [
    "# Machine Learning\n",
    "\n",
    "Overview of Machine Learning\n",
    "\n",
    "We will learn about how machine learning is a method of modeling data, typically with predictive functions. Machine learning includes many techniques, but here we will focus on only those necessary to transition into deep learning. For example, random forests, support vector machines, and nearest neighbor are widely-used machine learning techniques that are effective but not covered here.\n",
    "\n",
    "## The Ingredients \n",
    "\n",
    "Machine learning the fitting of models $\\hat{f}(\\vec{x})$ to data $\\vec{x}, y$ that we know came from some ``data generation'' process $f(x)$ . Firstly, definitions:\n",
    "\n",
    "**Features** \n",
    "\n",
    "&nbsp;&nbsp;&nbsp;&nbsp;set of $N$ vectors $\\{\\vec{x}_i\\}$ of dimension $D$. Can be reals, integers, etc.\n",
    "\n",
    "**Labels** \n",
    "\n",
    "&nbsp;&nbsp;&nbsp;&nbsp;set of $N$ integers or reals $\\{y_i\\}$. $y_i$ is usually a scalar\n",
    "  \n",
    "**Labeled Data** \n",
    "\n",
    "&nbsp;&nbsp;&nbsp;&nbsp;set of $N$ tuples $\\{\\left(\\vec{x}_i, y_i\\right)\\}$ \n",
    "\n",
    "**Unlabeled Data** \n",
    "\n",
    "&nbsp;&nbsp;&nbsp;&nbsp;set of $N$ features  $\\{\\vec{x}_i\\}$  that may have unknown $y$ labels\n",
    "\n",
    "**Data generation process**\n",
    "\n",
    "&nbsp;&nbsp;&nbsp;&nbsp;The unseen process $f(\\vec{x})$ that takes a given feature vector in and returns a real label $y$ (what we're trying to model)\n",
    "\n",
    "**Model**\n",
    "\n",
    "&nbsp;&nbsp;&nbsp;&nbsp;A function $\\hat{f}(\\vec{x})$ that takes a given feature vector in and returns a predicted $\\hat{y}$\n",
    "\n",
    "**Predictions**\n",
    "\n",
    "&nbsp;&nbsp;&nbsp;&nbsp; $\\hat{y}$, our predicted output for a given input $\\vec{x}$.\n"
   ]
  },
  {
   "attachments": {},
   "cell_type": "markdown",
   "metadata": {},
   "source": [
    "## Big Data\n",
    "Additional Dimensions\n",
    "- Complexity: multiple source and data streams\n",
    "- Variability\n",
    "    - Unpredictable Data flows\n",
    "    - Social media trending\n",
    "\n",
    "Why Big Data is important\n",
    "- Data constains information\n",
    "- information lead to insights\n",
    "- Insights helps in making better decisions\n",
    "\n",
    "How to derive insights from data?\n",
    "\n",
    "--> Machine Leanring\n",
    "\n",
    "Conclusions:\n",
    "- Data is nothing without insights\n",
    "- Machine Learning is the key for deriving inisghts from data\n",
    "- Big Data and Machine Learning ha a huge potential"
   ]
  },
  {
   "attachments": {},
   "cell_type": "markdown",
   "metadata": {},
   "source": [
    "## Algorithm in ML\n",
    "\n",
    "The below picture shows an overview of machine learning\n",
    "\n",
    "<img src=\"image/1_1_machine-learning.png\" style=\"width:600; align:center\" />\n",
    "\n",
    "### Supervised Learning\n",
    "- Classification\n",
    "    - Decision Trees\n",
    "    - Naive Bayers Classification\n",
    "- Regession\n",
    "    - Ordinary Least Squares Regression\n",
    "    - Logistic Regession\n",
    "    - Support Vector Machines\n",
    "    - Ensemble Methods\n",
    "\n",
    "### Unsuppervised Learning\n",
    "- Clustering\n",
    "    - Centroid-based algorithm\n",
    "    - Connectivity-based algorithm\n",
    "    - Density-based algorithm\n",
    "    - Probabilistic\n",
    "    - Dimensionality Reduction\n",
    "    - Neural network/ Deep Learning\n",
    "- Pricipal Component Analysis\n",
    "- Independent Component Analysis\n",
    "- Singular Value Decomposition\n",
    "\n",
    "### Reinforement Learning"
   ]
  },
  {
   "cell_type": "markdown",
   "metadata": {},
   "source": []
  },
  {
   "attachments": {},
   "cell_type": "markdown",
   "metadata": {},
   "source": [
    "```{note}\n",
    "The content in this part is primary from: \n",
    "- [Deep Learning for molecules & materials](https://dmol.pub/ml)\n",
    "```\n",
    "\n",
    "```{seealso}\n",
    "1. [<ins>Introductory Machine Learning</ins>](https://ai.stanford.edu/~nilsson/mlbook.html)\n",
    "2. Two reviews of machine learning in materials{cite}`fung2021benchmarking,balachandran2019machine`\n",
    "3. A review of machine learning in computational chemistry{cite}`gomez2020machine`\n",
    "4. A review of machine learning in metals{cite}`nandy2018strategies`\n",
    "```"
   ]
  }
 ],
 "metadata": {
  "kernelspec": {
   "display_name": "base",
   "language": "python",
   "name": "python3"
  },
  "language_info": {
   "name": "python",
   "version": "3.9.7 | packaged by conda-forge | (default, Sep 29 2021, 19:15:42) [MSC v.1916 64 bit (AMD64)]"
  },
  "orig_nbformat": 4,
  "vscode": {
   "interpreter": {
    "hash": "2b6e7cfdce5ef245d32482b7f80393907c6182a3f3a40203474e09cb3d62b454"
   }
  }
 },
 "nbformat": 4,
 "nbformat_minor": 2
}
